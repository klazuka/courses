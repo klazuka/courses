{
 "cells": [
  {
   "cell_type": "markdown",
   "metadata": {},
   "source": [
    "# Dogs v Cats\n",
    "\n",
    "A hybrid VGG / ConvNet inspired by Francois' [article](https://blog.keras.io/building-powerful-image-classification-models-using-very-little-data.html)\n",
    "\n",
    "Assumes that the fully-connected classifier weights have been saved to disk (from stage2)"
   ]
  },
  {
   "cell_type": "code",
   "execution_count": 1,
   "metadata": {},
   "outputs": [],
   "source": [
    "%matplotlib inline"
   ]
  },
  {
   "cell_type": "markdown",
   "metadata": {},
   "source": [
    "Define path to data: (It's a good idea to put it in a subdirectory of your notebooks folder, and then exclude that directory from git control by adding it to .gitignore.)"
   ]
  },
  {
   "cell_type": "code",
   "execution_count": 2,
   "metadata": {},
   "outputs": [],
   "source": [
    "root_path = \"data/dogscats-redux/\"\n",
    "\n",
    "use_small_dataset = True\n",
    "path = root_path + \"sample/\" if use_small_dataset else root_path"
   ]
  },
  {
   "cell_type": "markdown",
   "metadata": {},
   "source": [
    "A few basic libraries that we'll need for the initial exercises:"
   ]
  },
  {
   "cell_type": "code",
   "execution_count": 3,
   "metadata": {},
   "outputs": [],
   "source": [
    "from __future__ import division,print_function\n",
    "\n",
    "import os, json, shutil, random, math\n",
    "from glob import glob\n",
    "import numpy as np\n",
    "np.set_printoptions(precision=4, linewidth=100)\n",
    "from matplotlib import pyplot as plt"
   ]
  },
  {
   "cell_type": "markdown",
   "metadata": {},
   "source": [
    "We have created a file most imaginatively called 'utils.py' to store any little convenience functions we'll want to use. We will discuss these as we use them."
   ]
  },
  {
   "cell_type": "code",
   "execution_count": 4,
   "metadata": {
    "scrolled": false
   },
   "outputs": [
    {
     "name": "stderr",
     "output_type": "stream",
     "text": [
      "Using cuDNN version 5103 on context None\n",
      "Mapped name None to device cuda: Tesla K80 (0692:00:00.0)\n",
      "Using Theano backend.\n"
     ]
    }
   ],
   "source": [
    "import utils; reload(utils)\n",
    "from utils import plots"
   ]
  },
  {
   "cell_type": "code",
   "execution_count": 5,
   "metadata": {},
   "outputs": [],
   "source": [
    "def plot_train_validation_curves(title, training_series, validation_series):\n",
    "    num_epochs = len(training_series)\n",
    "    epochs = range(1, num_epochs + 1)\n",
    "    plt.plot(epochs, validation_series, label='validation')\n",
    "    plt.plot(epochs, training_series, label='train')\n",
    "    plt.xlabel('Epochs')\n",
    "    plt.ylabel(title)\n",
    "    plt.title(title)\n",
    "    plt.legend()\n",
    "    plt.grid(True)\n",
    "    plt.show()"
   ]
  },
  {
   "cell_type": "code",
   "execution_count": 7,
   "metadata": {},
   "outputs": [],
   "source": [
    "from keras.applications import VGG16\n",
    "from keras.models import Sequential\n",
    "from keras.layers import Dense, Conv2D, MaxPooling2D, Dropout, Flatten\n",
    "from keras.preprocessing.image import ImageDataGenerator\n",
    "from keras.callbacks import ReduceLROnPlateau, TensorBoard\n",
    "import keras.backend as K"
   ]
  },
  {
   "cell_type": "markdown",
   "metadata": {},
   "source": [
    "# Define our fine-tuned VGG model"
   ]
  },
  {
   "cell_type": "code",
   "execution_count": 19,
   "metadata": {},
   "outputs": [
    {
     "ename": "ValueError",
     "evalue": "The shape of the input to \"Flatten\" is not fully defined (got (512, None, None). Make sure to pass a complete \"input_shape\" or \"batch_input_shape\" argument to the first layer in your model.",
     "output_type": "error",
     "traceback": [
      "\u001b[0;31m---------------------------------------------------------------------------\u001b[0m",
      "\u001b[0;31mValueError\u001b[0m                                Traceback (most recent call last)",
      "\u001b[0;32m<ipython-input-19-b150df9313fd>\u001b[0m in \u001b[0;36m<module>\u001b[0;34m()\u001b[0m\n\u001b[1;32m      6\u001b[0m \u001b[0;34m\u001b[0m\u001b[0m\n\u001b[1;32m      7\u001b[0m \u001b[0mfc_model\u001b[0m \u001b[0;34m=\u001b[0m \u001b[0mSequential\u001b[0m\u001b[0;34m(\u001b[0m\u001b[0;34m)\u001b[0m\u001b[0;34m\u001b[0m\u001b[0m\n\u001b[0;32m----> 8\u001b[0;31m \u001b[0mfc_model\u001b[0m\u001b[0;34m.\u001b[0m\u001b[0madd\u001b[0m\u001b[0;34m(\u001b[0m\u001b[0mFlatten\u001b[0m\u001b[0;34m(\u001b[0m\u001b[0minput_shape\u001b[0m\u001b[0;34m=\u001b[0m\u001b[0mmodel\u001b[0m\u001b[0;34m.\u001b[0m\u001b[0moutput_shape\u001b[0m\u001b[0;34m[\u001b[0m\u001b[0;36m1\u001b[0m\u001b[0;34m:\u001b[0m\u001b[0;34m]\u001b[0m\u001b[0;34m)\u001b[0m\u001b[0;34m)\u001b[0m \u001b[0;31m# skip the first (batch) dimension\u001b[0m\u001b[0;34m\u001b[0m\u001b[0m\n\u001b[0m\u001b[1;32m      9\u001b[0m \u001b[0mfc_model\u001b[0m\u001b[0;34m.\u001b[0m\u001b[0madd\u001b[0m\u001b[0;34m(\u001b[0m\u001b[0mDense\u001b[0m\u001b[0;34m(\u001b[0m\u001b[0;36m256\u001b[0m\u001b[0;34m,\u001b[0m \u001b[0mactivation\u001b[0m\u001b[0;34m=\u001b[0m\u001b[0;34m'relu'\u001b[0m\u001b[0;34m)\u001b[0m\u001b[0;34m)\u001b[0m\u001b[0;34m\u001b[0m\u001b[0m\n\u001b[1;32m     10\u001b[0m \u001b[0mfc_model\u001b[0m\u001b[0;34m.\u001b[0m\u001b[0madd\u001b[0m\u001b[0;34m(\u001b[0m\u001b[0mDropout\u001b[0m\u001b[0;34m(\u001b[0m\u001b[0;36m0.5\u001b[0m\u001b[0;34m)\u001b[0m\u001b[0;34m)\u001b[0m\u001b[0;34m\u001b[0m\u001b[0m\n",
      "\u001b[0;32m/home/kelazuka/anaconda2/lib/python2.7/site-packages/keras/models.pyc\u001b[0m in \u001b[0;36madd\u001b[0;34m(self, layer)\u001b[0m\n\u001b[1;32m    297\u001b[0m                 \u001b[0;32melse\u001b[0m\u001b[0;34m:\u001b[0m\u001b[0;34m\u001b[0m\u001b[0m\n\u001b[1;32m    298\u001b[0m                     \u001b[0minput_dtype\u001b[0m \u001b[0;34m=\u001b[0m \u001b[0mNone\u001b[0m\u001b[0;34m\u001b[0m\u001b[0m\n\u001b[0;32m--> 299\u001b[0;31m                 \u001b[0mlayer\u001b[0m\u001b[0;34m.\u001b[0m\u001b[0mcreate_input_layer\u001b[0m\u001b[0;34m(\u001b[0m\u001b[0mbatch_input_shape\u001b[0m\u001b[0;34m,\u001b[0m \u001b[0minput_dtype\u001b[0m\u001b[0;34m)\u001b[0m\u001b[0;34m\u001b[0m\u001b[0m\n\u001b[0m\u001b[1;32m    300\u001b[0m \u001b[0;34m\u001b[0m\u001b[0m\n\u001b[1;32m    301\u001b[0m             \u001b[0;32mif\u001b[0m \u001b[0mlen\u001b[0m\u001b[0;34m(\u001b[0m\u001b[0mlayer\u001b[0m\u001b[0;34m.\u001b[0m\u001b[0minbound_nodes\u001b[0m\u001b[0;34m)\u001b[0m \u001b[0;34m!=\u001b[0m \u001b[0;36m1\u001b[0m\u001b[0;34m:\u001b[0m\u001b[0;34m\u001b[0m\u001b[0m\n",
      "\u001b[0;32m/home/kelazuka/anaconda2/lib/python2.7/site-packages/keras/engine/topology.pyc\u001b[0m in \u001b[0;36mcreate_input_layer\u001b[0;34m(self, batch_input_shape, input_dtype, name)\u001b[0m\n\u001b[1;32m    399\u001b[0m         \u001b[0;31m# and create the node connecting the current layer\u001b[0m\u001b[0;34m\u001b[0m\u001b[0;34m\u001b[0m\u001b[0m\n\u001b[1;32m    400\u001b[0m         \u001b[0;31m# to the input layer we just created.\u001b[0m\u001b[0;34m\u001b[0m\u001b[0;34m\u001b[0m\u001b[0m\n\u001b[0;32m--> 401\u001b[0;31m         \u001b[0mself\u001b[0m\u001b[0;34m(\u001b[0m\u001b[0mx\u001b[0m\u001b[0;34m)\u001b[0m\u001b[0;34m\u001b[0m\u001b[0m\n\u001b[0m\u001b[1;32m    402\u001b[0m \u001b[0;34m\u001b[0m\u001b[0m\n\u001b[1;32m    403\u001b[0m     def add_weight(self, shape, initializer, name=None,\n",
      "\u001b[0;32m/home/kelazuka/anaconda2/lib/python2.7/site-packages/keras/engine/topology.pyc\u001b[0m in \u001b[0;36m__call__\u001b[0;34m(self, x, mask)\u001b[0m\n\u001b[1;32m    570\u001b[0m         \u001b[0;32mif\u001b[0m \u001b[0minbound_layers\u001b[0m\u001b[0;34m:\u001b[0m\u001b[0;34m\u001b[0m\u001b[0m\n\u001b[1;32m    571\u001b[0m             \u001b[0;31m# This will call layer.build() if necessary.\u001b[0m\u001b[0;34m\u001b[0m\u001b[0;34m\u001b[0m\u001b[0m\n\u001b[0;32m--> 572\u001b[0;31m             \u001b[0mself\u001b[0m\u001b[0;34m.\u001b[0m\u001b[0madd_inbound_node\u001b[0m\u001b[0;34m(\u001b[0m\u001b[0minbound_layers\u001b[0m\u001b[0;34m,\u001b[0m \u001b[0mnode_indices\u001b[0m\u001b[0;34m,\u001b[0m \u001b[0mtensor_indices\u001b[0m\u001b[0;34m)\u001b[0m\u001b[0;34m\u001b[0m\u001b[0m\n\u001b[0m\u001b[1;32m    573\u001b[0m             \u001b[0;31m# Outputs were already computed when calling self.add_inbound_node.\u001b[0m\u001b[0;34m\u001b[0m\u001b[0;34m\u001b[0m\u001b[0m\n\u001b[1;32m    574\u001b[0m             \u001b[0moutputs\u001b[0m \u001b[0;34m=\u001b[0m \u001b[0mself\u001b[0m\u001b[0;34m.\u001b[0m\u001b[0minbound_nodes\u001b[0m\u001b[0;34m[\u001b[0m\u001b[0;34m-\u001b[0m\u001b[0;36m1\u001b[0m\u001b[0;34m]\u001b[0m\u001b[0;34m.\u001b[0m\u001b[0moutput_tensors\u001b[0m\u001b[0;34m\u001b[0m\u001b[0m\n",
      "\u001b[0;32m/home/kelazuka/anaconda2/lib/python2.7/site-packages/keras/engine/topology.pyc\u001b[0m in \u001b[0;36madd_inbound_node\u001b[0;34m(self, inbound_layers, node_indices, tensor_indices)\u001b[0m\n\u001b[1;32m    633\u001b[0m         \u001b[0;31m# creating the node automatically updates self.inbound_nodes\u001b[0m\u001b[0;34m\u001b[0m\u001b[0;34m\u001b[0m\u001b[0m\n\u001b[1;32m    634\u001b[0m         \u001b[0;31m# as well as outbound_nodes on inbound layers.\u001b[0m\u001b[0;34m\u001b[0m\u001b[0;34m\u001b[0m\u001b[0m\n\u001b[0;32m--> 635\u001b[0;31m         \u001b[0mNode\u001b[0m\u001b[0;34m.\u001b[0m\u001b[0mcreate_node\u001b[0m\u001b[0;34m(\u001b[0m\u001b[0mself\u001b[0m\u001b[0;34m,\u001b[0m \u001b[0minbound_layers\u001b[0m\u001b[0;34m,\u001b[0m \u001b[0mnode_indices\u001b[0m\u001b[0;34m,\u001b[0m \u001b[0mtensor_indices\u001b[0m\u001b[0;34m)\u001b[0m\u001b[0;34m\u001b[0m\u001b[0m\n\u001b[0m\u001b[1;32m    636\u001b[0m \u001b[0;34m\u001b[0m\u001b[0m\n\u001b[1;32m    637\u001b[0m     \u001b[0;32mdef\u001b[0m \u001b[0mget_output_shape_for\u001b[0m\u001b[0;34m(\u001b[0m\u001b[0mself\u001b[0m\u001b[0;34m,\u001b[0m \u001b[0minput_shape\u001b[0m\u001b[0;34m)\u001b[0m\u001b[0;34m:\u001b[0m\u001b[0;34m\u001b[0m\u001b[0m\n",
      "\u001b[0;32m/home/kelazuka/anaconda2/lib/python2.7/site-packages/keras/engine/topology.pyc\u001b[0m in \u001b[0;36mcreate_node\u001b[0;34m(cls, outbound_layer, inbound_layers, node_indices, tensor_indices)\u001b[0m\n\u001b[1;32m    168\u001b[0m             \u001b[0;31m# TODO: try to auto-infer shape\u001b[0m\u001b[0;34m\u001b[0m\u001b[0;34m\u001b[0m\u001b[0m\n\u001b[1;32m    169\u001b[0m             \u001b[0;31m# if exception is raised by get_output_shape_for.\u001b[0m\u001b[0;34m\u001b[0m\u001b[0;34m\u001b[0m\u001b[0m\n\u001b[0;32m--> 170\u001b[0;31m             \u001b[0moutput_shapes\u001b[0m \u001b[0;34m=\u001b[0m \u001b[0mto_list\u001b[0m\u001b[0;34m(\u001b[0m\u001b[0moutbound_layer\u001b[0m\u001b[0;34m.\u001b[0m\u001b[0mget_output_shape_for\u001b[0m\u001b[0;34m(\u001b[0m\u001b[0minput_shapes\u001b[0m\u001b[0;34m[\u001b[0m\u001b[0;36m0\u001b[0m\u001b[0;34m]\u001b[0m\u001b[0;34m)\u001b[0m\u001b[0;34m)\u001b[0m\u001b[0;34m\u001b[0m\u001b[0m\n\u001b[0m\u001b[1;32m    171\u001b[0m         \u001b[0;32melse\u001b[0m\u001b[0;34m:\u001b[0m\u001b[0;34m\u001b[0m\u001b[0m\n\u001b[1;32m    172\u001b[0m             \u001b[0moutput_tensors\u001b[0m \u001b[0;34m=\u001b[0m \u001b[0mto_list\u001b[0m\u001b[0;34m(\u001b[0m\u001b[0moutbound_layer\u001b[0m\u001b[0;34m.\u001b[0m\u001b[0mcall\u001b[0m\u001b[0;34m(\u001b[0m\u001b[0minput_tensors\u001b[0m\u001b[0;34m,\u001b[0m \u001b[0mmask\u001b[0m\u001b[0;34m=\u001b[0m\u001b[0minput_masks\u001b[0m\u001b[0;34m)\u001b[0m\u001b[0;34m)\u001b[0m\u001b[0;34m\u001b[0m\u001b[0m\n",
      "\u001b[0;32m/home/kelazuka/anaconda2/lib/python2.7/site-packages/keras/layers/core.pyc\u001b[0m in \u001b[0;36mget_output_shape_for\u001b[0;34m(self, input_shape)\u001b[0m\n\u001b[1;32m    474\u001b[0m             raise ValueError('The shape of the input to \"Flatten\" '\n\u001b[1;32m    475\u001b[0m                              \u001b[0;34m'is not fully defined '\u001b[0m\u001b[0;34m\u001b[0m\u001b[0m\n\u001b[0;32m--> 476\u001b[0;31m                              \u001b[0;34m'(got '\u001b[0m \u001b[0;34m+\u001b[0m \u001b[0mstr\u001b[0m\u001b[0;34m(\u001b[0m\u001b[0minput_shape\u001b[0m\u001b[0;34m[\u001b[0m\u001b[0;36m1\u001b[0m\u001b[0;34m:\u001b[0m\u001b[0;34m]\u001b[0m\u001b[0;34m)\u001b[0m \u001b[0;34m+\u001b[0m \u001b[0;34m'. '\u001b[0m\u001b[0;34m\u001b[0m\u001b[0m\n\u001b[0m\u001b[1;32m    477\u001b[0m                              \u001b[0;34m'Make sure to pass a complete \"input_shape\" '\u001b[0m\u001b[0;34m\u001b[0m\u001b[0m\n\u001b[1;32m    478\u001b[0m                              \u001b[0;34m'or \"batch_input_shape\" argument to the first '\u001b[0m\u001b[0;34m\u001b[0m\u001b[0m\n",
      "\u001b[0;31mValueError\u001b[0m: The shape of the input to \"Flatten\" is not fully defined (got (512, None, None). Make sure to pass a complete \"input_shape\" or \"batch_input_shape\" argument to the first layer in your model."
     ]
    }
   ],
   "source": [
    "model = Sequential()\n",
    "\n",
    "model.add(VGG16(include_top=False, weights='imagenet'))\n",
    "\n",
    "# intermediate_shape = (512,7,7) # 512 7x7 features at the end of VGG16 (excluding its top)\n",
    "\n",
    "fc_model = Sequential()\n",
    "fc_model.add(Flatten(input_shape=model.output_shape[1:])) # skip the first (batch) dimension\n",
    "fc_model.add(Dense(256, activation='relu'))\n",
    "fc_model.add(Dropout(0.5))\n",
    "fc_model.add(Dense(2, activation='softmax'))\n",
    "fc_model.load_weights(root_path+'fc_weights_softmax_out_2.h5')\n",
    "model.add(fc_model)\n",
    "\n",
    "# set the first 25 layers (up to the last conv block)\n",
    "# to non-trainable (weights will not be updated)\n",
    "for layer in model.layers[:25]:\n",
    "    layer.trainable = False\n",
    "\n",
    "model.compile(optimizer=optimizers.SGD(lr=1e-4, momentum=0.9), \n",
    "              loss='categorical_crossentropy', \n",
    "              metrics=['accuracy'])"
   ]
  },
  {
   "cell_type": "markdown",
   "metadata": {},
   "source": [
    "## train the model"
   ]
  },
  {
   "cell_type": "code",
   "execution_count": 31,
   "metadata": {},
   "outputs": [
    {
     "name": "stdout",
     "output_type": "stream",
     "text": [
      "Train on 20000 samples, validate on 5000 samples\n",
      "Epoch 1/50\n",
      "20000/20000 [==============================] - 5s - loss: 2.0253 - acc: 0.8716 - val_loss: 1.1388 - val_acc: 0.9278\n",
      "Epoch 2/50\n",
      "20000/20000 [==============================] - 4s - loss: 1.3147 - acc: 0.9173 - val_loss: 1.0786 - val_acc: 0.9326\n",
      "Epoch 3/50\n",
      "20000/20000 [==============================] - 4s - loss: 1.1008 - acc: 0.9307 - val_loss: 0.9442 - val_acc: 0.9406\n",
      "Epoch 4/50\n",
      "20000/20000 [==============================] - 4s - loss: 1.0553 - acc: 0.9339 - val_loss: 0.6297 - val_acc: 0.9604\n",
      "Epoch 5/50\n",
      "20000/20000 [==============================] - 4s - loss: 1.0146 - acc: 0.9363 - val_loss: 0.6563 - val_acc: 0.9590\n",
      "Epoch 6/50\n",
      "20000/20000 [==============================] - 4s - loss: 0.8499 - acc: 0.9466 - val_loss: 0.6118 - val_acc: 0.9618\n",
      "Epoch 7/50\n",
      "20000/20000 [==============================] - 4s - loss: 0.7657 - acc: 0.9519 - val_loss: 0.6295 - val_acc: 0.9606\n",
      "Epoch 8/50\n",
      "20000/20000 [==============================] - 4s - loss: 0.8327 - acc: 0.9477 - val_loss: 0.7627 - val_acc: 0.9520\n",
      "Epoch 9/50\n",
      "20000/20000 [==============================] - 4s - loss: 0.7543 - acc: 0.9527 - val_loss: 0.6261 - val_acc: 0.9606\n",
      "Epoch 10/50\n",
      "20000/20000 [==============================] - 4s - loss: 0.7085 - acc: 0.9555 - val_loss: 0.5448 - val_acc: 0.9656\n",
      "Epoch 11/50\n",
      "20000/20000 [==============================] - 4s - loss: 0.6633 - acc: 0.9584 - val_loss: 0.7608 - val_acc: 0.9522\n",
      "Epoch 12/50\n",
      "20000/20000 [==============================] - 4s - loss: 0.6958 - acc: 0.9564 - val_loss: 0.5084 - val_acc: 0.9676\n",
      "Epoch 13/50\n",
      "20000/20000 [==============================] - 4s - loss: 0.6422 - acc: 0.9598 - val_loss: 0.5042 - val_acc: 0.9684\n",
      "Epoch 14/50\n",
      "20000/20000 [==============================] - 4s - loss: 0.6692 - acc: 0.9582 - val_loss: 0.8501 - val_acc: 0.9466\n",
      "Epoch 15/50\n",
      "20000/20000 [==============================] - 4s - loss: 0.6910 - acc: 0.9568 - val_loss: 0.5514 - val_acc: 0.9656\n",
      "Epoch 16/50\n",
      "20000/20000 [==============================] - 4s - loss: 0.5865 - acc: 0.9631 - val_loss: 0.6897 - val_acc: 0.9568\n",
      "Epoch 17/50\n",
      "20000/20000 [==============================] - 4s - loss: 0.6596 - acc: 0.9588 - val_loss: 0.6817 - val_acc: 0.9574\n",
      "Epoch 18/50\n",
      "20000/20000 [==============================] - 4s - loss: 0.6721 - acc: 0.9578 - val_loss: 0.5189 - val_acc: 0.9676\n",
      "Epoch 19/50\n",
      "20000/20000 [==============================] - 4s - loss: 0.5551 - acc: 0.9651 - val_loss: 0.6040 - val_acc: 0.9622\n",
      "Epoch 20/50\n",
      "20000/20000 [==============================] - 4s - loss: 0.5969 - acc: 0.9625 - val_loss: 0.5153 - val_acc: 0.9678\n",
      "Epoch 21/50\n",
      "20000/20000 [==============================] - 4s - loss: 0.6353 - acc: 0.9604 - val_loss: 0.5211 - val_acc: 0.9674\n",
      "Epoch 22/50\n",
      "20000/20000 [==============================] - 4s - loss: 0.5586 - acc: 0.9649 - val_loss: 0.5133 - val_acc: 0.9678\n",
      "Epoch 23/50\n",
      "20000/20000 [==============================] - 4s - loss: 0.6022 - acc: 0.9624 - val_loss: 0.5914 - val_acc: 0.9626\n",
      "Epoch 24/50\n",
      "20000/20000 [==============================] - 4s - loss: 0.5103 - acc: 0.9679 - val_loss: 0.5442 - val_acc: 0.9658\n",
      "Epoch 25/50\n",
      "20000/20000 [==============================] - 4s - loss: 0.4909 - acc: 0.9693 - val_loss: 0.5556 - val_acc: 0.9650\n",
      "Epoch 26/50\n",
      "20000/20000 [==============================] - 4s - loss: 0.5818 - acc: 0.9634 - val_loss: 0.8970 - val_acc: 0.9438\n",
      "Epoch 27/50\n",
      "20000/20000 [==============================] - 4s - loss: 0.5888 - acc: 0.9631 - val_loss: 0.5519 - val_acc: 0.9654\n",
      "Epoch 28/50\n",
      "20000/20000 [==============================] - 4s - loss: 0.5077 - acc: 0.9683 - val_loss: 0.5147 - val_acc: 0.9680\n",
      "Epoch 29/50\n",
      "20000/20000 [==============================] - 4s - loss: 0.5533 - acc: 0.9655 - val_loss: 0.5319 - val_acc: 0.9670\n",
      "Epoch 30/50\n",
      "20000/20000 [==============================] - 4s - loss: 0.5182 - acc: 0.9677 - val_loss: 0.5034 - val_acc: 0.9686\n",
      "Epoch 31/50\n",
      "20000/20000 [==============================] - 4s - loss: 0.5086 - acc: 0.9682 - val_loss: 0.6110 - val_acc: 0.9620\n",
      "Epoch 32/50\n",
      "20000/20000 [==============================] - 4s - loss: 0.4909 - acc: 0.9694 - val_loss: 0.4997 - val_acc: 0.9690\n",
      "Epoch 33/50\n",
      "20000/20000 [==============================] - 4s - loss: 0.5170 - acc: 0.9676 - val_loss: 0.4845 - val_acc: 0.9698\n",
      "Epoch 34/50\n",
      "20000/20000 [==============================] - 4s - loss: 0.5514 - acc: 0.9656 - val_loss: 0.4892 - val_acc: 0.9696\n",
      "Epoch 35/50\n",
      "20000/20000 [==============================] - 4s - loss: 0.4842 - acc: 0.9698 - val_loss: 0.4917 - val_acc: 0.9692\n",
      "Epoch 36/50\n",
      "20000/20000 [==============================] - 4s - loss: 0.4704 - acc: 0.9706 - val_loss: 0.5066 - val_acc: 0.9682\n",
      "Epoch 37/50\n",
      "20000/20000 [==============================] - 4s - loss: 0.5193 - acc: 0.9676 - val_loss: 0.6814 - val_acc: 0.9574\n",
      "Epoch 38/50\n",
      "20000/20000 [==============================] - 4s - loss: 0.5116 - acc: 0.9682 - val_loss: 0.6754 - val_acc: 0.9580\n",
      "Epoch 39/50\n",
      "20000/20000 [==============================] - 4s - loss: 0.5088 - acc: 0.9680 - val_loss: 0.6031 - val_acc: 0.9624\n",
      "Epoch 40/50\n",
      "20000/20000 [==============================] - 4s - loss: 0.4860 - acc: 0.9696 - val_loss: 0.4817 - val_acc: 0.9698\n",
      "Epoch 41/50\n",
      "20000/20000 [==============================] - 4s - loss: 0.4847 - acc: 0.9697 - val_loss: 0.5321 - val_acc: 0.9668\n",
      "Epoch 42/50\n",
      "20000/20000 [==============================] - 4s - loss: 0.4834 - acc: 0.9697 - val_loss: 0.5183 - val_acc: 0.9676\n",
      "Epoch 43/50\n",
      "20000/20000 [==============================] - 4s - loss: 0.5102 - acc: 0.9681 - val_loss: 0.4960 - val_acc: 0.9690\n",
      "Epoch 44/50\n",
      "20000/20000 [==============================] - 4s - loss: 0.4406 - acc: 0.9724 - val_loss: 0.5142 - val_acc: 0.9676\n",
      "Epoch 45/50\n",
      "20000/20000 [==============================] - 4s - loss: 0.4192 - acc: 0.9738 - val_loss: 0.4729 - val_acc: 0.9702\n",
      "Epoch 46/50\n",
      "20000/20000 [==============================] - 4s - loss: 0.4057 - acc: 0.9746 - val_loss: 0.4577 - val_acc: 0.9714\n",
      "Epoch 47/50\n",
      "20000/20000 [==============================] - 4s - loss: 0.4189 - acc: 0.9739 - val_loss: 0.5151 - val_acc: 0.9680\n",
      "Epoch 48/50\n",
      "20000/20000 [==============================] - 4s - loss: 0.4548 - acc: 0.9716 - val_loss: 0.5096 - val_acc: 0.9682\n",
      "Epoch 49/50\n",
      "20000/20000 [==============================] - 4s - loss: 0.4162 - acc: 0.9740 - val_loss: 0.4972 - val_acc: 0.9688\n",
      "Epoch 50/50\n",
      "20000/20000 [==============================] - 4s - loss: 0.4520 - acc: 0.9718 - val_loss: 0.5265 - val_acc: 0.9672\n"
     ]
    }
   ],
   "source": [
    "batch_size = 16\n",
    "num_epochs = 50\n",
    "callbacks = []\n",
    "hist = model.fit(train_data, train_labels, validation_data=(validation_data, validation_labels), \n",
    "                 batch_size=batch_size, callbacks=callbacks, nb_epoch=num_epochs)\n",
    "model.save_weights(path+'kl_third_try.h5')"
   ]
  },
  {
   "cell_type": "code",
   "execution_count": 32,
   "metadata": {},
   "outputs": [],
   "source": [
    "model.save_weights(path+'fc_weights_softmax_out_2.h5')"
   ]
  },
  {
   "cell_type": "markdown",
   "metadata": {},
   "source": [
    "## evaluate performance"
   ]
  },
  {
   "cell_type": "code",
   "execution_count": 33,
   "metadata": {},
   "outputs": [
    {
     "data": {
      "image/png": "[encoded data removed]",
      "text/plain": [
       "<matplotlib.figure.Figure at 0x7f280501cf50>"
      ]
     },
     "metadata": {},
     "output_type": "display_data"
    },
    {
     "data": {
      "image/png": "[encoded data removed]",
      "text/plain": [
       "<matplotlib.figure.Figure at 0x7f280501cf10>"
      ]
     },
     "metadata": {},
     "output_type": "display_data"
    }
   ],
   "source": [
    "plot_train_validation_curves('Accuracy', hist.history['acc'], hist.history['val_acc'])\n",
    "plot_train_validation_curves('Loss', hist.history['loss'], hist.history['val_loss'])"
   ]
  },
  {
   "cell_type": "markdown",
   "metadata": {},
   "source": [
    "## kick the tires"
   ]
  },
  {
   "cell_type": "code",
   "execution_count": 34,
   "metadata": {},
   "outputs": [
    {
     "name": "stdout",
     "output_type": "stream",
     "text": [
      "[[1 0]\n",
      " [1 0]\n",
      " [1 0]\n",
      " [1 0]\n",
      " [1 0]]\n"
     ]
    },
    {
     "data": {
      "text/plain": [
       "array([[ 1.,  0.],\n",
       "       [ 1.,  0.],\n",
       "       [ 1.,  0.],\n",
       "       [ 1.,  0.],\n",
       "       [ 1.,  0.]], dtype=float32)"
      ]
     },
     "execution_count": 34,
     "metadata": {},
     "output_type": "execute_result"
    }
   ],
   "source": [
    "bottlenecks, labels = train_data[:5], train_labels[:5]\n",
    "print(labels)\n",
    "model.predict_on_batch(bottlenecks)"
   ]
  },
  {
   "cell_type": "markdown",
   "metadata": {},
   "source": [
    "# Kaggle Submission"
   ]
  },
  {
   "cell_type": "code",
   "execution_count": null,
   "metadata": {},
   "outputs": [],
   "source": [
    "bottlenecked_test_data = np.load(open(path+'bottleneck_features_test.npy'))"
   ]
  },
  {
   "cell_type": "code",
   "execution_count": null,
   "metadata": {},
   "outputs": [],
   "source": [
    "bottlenecked_test_data.shape"
   ]
  },
  {
   "cell_type": "code",
   "execution_count": null,
   "metadata": {},
   "outputs": [],
   "source": [
    "dog_predictions = model.predict_on_batch(bottlenecked_test_data)[:,1]\n",
    "dog_predictions[:5]"
   ]
  },
  {
   "cell_type": "markdown",
   "metadata": {},
   "source": [
    "Extract the id of each image in the test batch because Keras ImageDataGenerator will enumerate them in lexical order"
   ]
  },
  {
   "cell_type": "code",
   "execution_count": null,
   "metadata": {},
   "outputs": [],
   "source": [
    "ids = [int(x.split(\"/\")[1].split(\".\")[0]) for x in test_batches.filenames]"
   ]
  },
  {
   "cell_type": "markdown",
   "metadata": {},
   "source": [
    "fill out the submission table"
   ]
  },
  {
   "cell_type": "code",
   "execution_count": null,
   "metadata": {},
   "outputs": [],
   "source": [
    "with open(root_path + 'keith_submission_hybrid_bottleneck_stage2.csv', 'w') as f:\n",
    "    f.write('id,label\\n')\n",
    "    for i in range(len(ids)):\n",
    "        f.write('{},{}\\n'.format(ids[i], dog_predictions[i]))"
   ]
  },
  {
   "cell_type": "code",
   "execution_count": null,
   "metadata": {},
   "outputs": [],
   "source": []
  }
 ],
 "metadata": {
  "anaconda-cloud": {},
  "kernelspec": {
   "display_name": "Python [default]",
   "language": "python",
   "name": "python2"
  },
  "language_info": {
   "codemirror_mode": {
    "name": "ipython",
    "version": 2
   },
   "file_extension": ".py",
   "mimetype": "text/x-python",
   "name": "python",
   "nbconvert_exporter": "python",
   "pygments_lexer": "ipython2",
   "version": "2.7.14"
  },
  "nav_menu": {},
  "nbpresent": {
   "slides": {
    "28b43202-5690-4169-9aca-6b9dabfeb3ec": {
     "id": "28b43202-5690-4169-9aca-6b9dabfeb3ec",
     "prev": null,
     "regions": {
      "3bba644a-cf4d-4a49-9fbd-e2554428cf9f": {
       "attrs": {
        "height": 0.8,
        "width": 0.8,
        "x": 0.1,
        "y": 0.1
       },
       "content": {
        "cell": "f3d3a388-7e2a-4151-9b50-c20498fceacc",
        "part": "whole"
       },
       "id": "3bba644a-cf4d-4a49-9fbd-e2554428cf9f"
      }
     }
    },
    "8104def2-4b68-44a0-8f1b-b03bf3b2a079": {
     "id": "8104def2-4b68-44a0-8f1b-b03bf3b2a079",
     "prev": "28b43202-5690-4169-9aca-6b9dabfeb3ec",
     "regions": {
      "7dded777-1ddf-4100-99ae-25cf1c15b575": {
       "attrs": {
        "height": 0.8,
        "width": 0.8,
        "x": 0.1,
        "y": 0.1
       },
       "content": {
        "cell": "fe47bd48-3414-4657-92e7-8b8d6cb0df00",
        "part": "whole"
       },
       "id": "7dded777-1ddf-4100-99ae-25cf1c15b575"
      }
     }
    }
   },
   "themes": {}
  },
  "toc": {
   "navigate_menu": true,
   "number_sections": true,
   "sideBar": true,
   "threshold": 6,
   "toc_cell": false,
   "toc_section_display": "block",
   "toc_window_display": false
  },
  "widgets": {
   "state": {},
   "version": "1.1.2"
  }
 },
 "nbformat": 4,
 "nbformat_minor": 1
}
